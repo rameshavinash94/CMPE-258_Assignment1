{
  "nbformat": 4,
  "nbformat_minor": 0,
  "metadata": {
    "colab": {
      "name": "PART_C.ipynb",
      "provenance": [],
      "authorship_tag": "ABX9TyPiP4lZT2REWsuHoCtuYEBh",
      "include_colab_link": true
    },
    "kernelspec": {
      "name": "python3",
      "display_name": "Python 3"
    },
    "language_info": {
      "name": "python"
    }
  },
  "cells": [
    {
      "cell_type": "markdown",
      "metadata": {
        "id": "view-in-github",
        "colab_type": "text"
      },
      "source": [
        "<a href=\"https://colab.research.google.com/github/rameshavinash94/CMPE-258_Assignment1/blob/main/PART_C.ipynb\" target=\"_parent\"><img src=\"https://colab.research.google.com/assets/colab-badge.svg\" alt=\"Open In Colab\"/></a>"
      ]
    },
    {
      "cell_type": "markdown",
      "source": [
        "**Linear Regression**"
      ],
      "metadata": {
        "id": "XlxQUZ7TDS9k"
      }
    },
    {
      "cell_type": "markdown",
      "source": [
        "Regression is a method of modelling a target value based on independent predictors. \n",
        "This method is mostly used for **forecasting and finding out cause and effect relationship between variables**. Regression techniques mostly differ based on the number of independent variables and the type of relationship between the independent and dependent variables."
      ],
      "metadata": {
        "id": "3-ZJ4Ga3bHck"
      }
    },
    {
      "cell_type": "markdown",
      "source": [
        "<div>\n",
        "<img src='https://miro.medium.com/max/1400/0*szXvH1a4ZQytyqhg.png' width='400'>\n",
        "</div>\n",
        "\n",
        "*The red line in the above graph is referred to as the best fit straight line. Based on the given data points, we try to plot a line that models the points the best. The line can be modelled based on the linear equation shown below.*\n",
        "\n"
      ],
      "metadata": {
        "id": "eLQy2nDKdNDJ"
      }
    },
    {
      "cell_type": "markdown",
      "source": [
        "A linear regression line has an equation of the form \n",
        "\n",
        "**`Y = mX + c`**\n",
        "\n",
        "where X is the explanatory/independent variable and Y is the dependent variable. The slope of the line is m, and c is the intercept (the value of y when x = 0).\n",
        "\n",
        "\n",
        "***In case of Housing price prediction:***\n",
        "<div>\n",
        "<img src=\"https://drive.google.com/uc?id=1rwftJLQ2J764Vyp8cRTYlkBlLN3dPnFG\" width=\"250\")>\n",
        "</div>\n"
      ],
      "metadata": {
        "id": "NLMQRGZddvbY"
      }
    },
    {
      "cell_type": "markdown",
      "source": [
        "**Simple linear regression is used to estimate the relationship between two quantitative variables. You can use simple linear regression when you want to know:**\n",
        "\n",
        "*How strong the relationship is between two variables (e.g. the relationship between rainfall and soil erosion).*\n",
        "\n",
        "*The value of the dependent variable at a certain value of the independent variable (e.g. the amount of soil erosion at a certain level of rainfall).*"
      ],
      "metadata": {
        "id": "6YWKJqCEcn5Z"
      }
    },
    {
      "cell_type": "markdown",
      "source": [
        "**Prior moving to Linear regression code/algorithm lets understand few important concepts required for Linear regression.**"
      ],
      "metadata": {
        "id": "fomI3SFkcMUl"
      }
    },
    {
      "cell_type": "markdown",
      "source": [
        "**Correlation:** explains the association among variables within the data\n",
        "\n",
        "<div>\n",
        "<img src='https://www.mathsisfun.com/data/images/correlation-examples.svg' width='400'>\n",
        "</div>\n",
        "\n",
        "**Variance:** the degree of the spread of the data\n",
        "\n",
        "**Standard deviation:** the square root of the variance\n",
        "\n",
        "**Normal distribution:** a continuous probability distribution(gaussian distribution), it’s sort of a bell curve in which the right side of the mean is the mirror of the left side"
      ],
      "metadata": {
        "id": "7fLXLIQDht3J"
      }
    },
    {
      "cell_type": "markdown",
      "source": [
        "**Cost Function**"
      ],
      "metadata": {
        "id": "xianK6SNceLk"
      }
    },
    {
      "cell_type": "markdown",
      "source": [
        "Cost function helps to find the best possbile value for m and c, such that we can provide the best fit line for the data points.\n",
        "\n",
        "Cost function measures how a machine learning model performs.\n",
        "\n",
        "Cost function is the calculation of the error between predicted values and actual values, represented as a single real number.\n",
        "\n",
        "\n",
        "**The difference between the cost function and loss function is as follows:**\n",
        "\n",
        "The cost function is the average error of n-samples in the data (for the whole training data) and the loss function is the error for individual data points (for one training example).\n"
      ],
      "metadata": {
        "id": "lv8Fa_0Ucieg"
      }
    },
    {
      "cell_type": "markdown",
      "source": [
        "**Gradient Descent**"
      ],
      "metadata": {
        "id": "0SUJ1qbaExEf"
      }
    },
    {
      "cell_type": "markdown",
      "source": [
        " the word **gradient** means an **increase and decrease in a property or something**! whereas **Descent** means **the act of moving downward**\n",
        "\n",
        "Gradient descent is an iterative optimization algorithm to find the minimum of a function. Here that function is our Loss Function.\n",
        "\n",
        "Gradient descent is a method of updating m and c to reduce the cost function(MSE).\n",
        "\n",
        "The concept is that we start with some m and c values and then reduce the cost by changing them iteratively. Gradient descent assists us in changing the values.\n",
        "\n",
        "<div>\n",
        "<img src='https://miro.medium.com/proxy/0*QwE8M4MupSdqA3M4.png' width='400'>\n",
        "</div>\n"
      ],
      "metadata": {
        "id": "nR06pSd9lCHA"
      }
    },
    {
      "cell_type": "markdown",
      "source": [
        "**Usual example in Gradiant descent:**\n",
        "\n",
        "Imagine a valley and a person with no sense of direction who wants to get to the bottom of the valley. He goes down the slope and takes large steps when the slope is steep and small steps when the slope is less steep. He decides his next position based on his current position and stops when he gets to the bottom of the valley which was his goal.\n",
        "\n",
        "<div>\n",
        "<img src='https://editor.analyticsvidhya.com/uploads/93873gd1.png' width='400'>\n",
        "</div>\n",
        "\n"
      ],
      "metadata": {
        "id": "JgIYye1Hn2f6"
      }
    },
    {
      "cell_type": "markdown",
      "source": [
        "**Why?**\n",
        "\n",
        "*   Gradient descent is by far the most popular optimization strategy used in Machine Learning and Deep Learning at the moment.\n",
        "\n",
        "*   It is used when training Data models, can be combined with every algorithm and is easy to understand and implement."
      ],
      "metadata": {
        "id": "UlZu6w8ttInR"
      }
    },
    {
      "cell_type": "markdown",
      "source": [
        "**Gradient Descent from Scratch**"
      ],
      "metadata": {
        "id": "lE4Nwe6jE0M2"
      }
    },
    {
      "cell_type": "code",
      "source": [
        "from matplotlib import pyplot as plt\n",
        "import math,random\n",
        "import numpy as np"
      ],
      "metadata": {
        "id": "k5PcwMUmLS_s"
      },
      "execution_count": 16,
      "outputs": []
    },
    {
      "cell_type": "code",
      "source": [
        "def loss_function(data,theta):\n",
        "    #get m and b\n",
        "    m = theta[0]\n",
        "    b = theta[1]\n",
        "    loss = 0\n",
        "    #on each data point\n",
        "    for i in range(0, len(data)):\n",
        "        #get x and y\n",
        "        x = data[i, 0]\n",
        "        y = data[i, 1]\n",
        "        #predict the value of y\n",
        "        y_hat = (m*x + b)\n",
        "        #compute loss as given in quation (2)\n",
        "        loss = loss + ((y - (y_hat)) ** 2)\n",
        "    #mean sqaured loss\n",
        "    mean_squared_loss = loss / float(len(data))\n",
        "    return mean_squared_loss"
      ],
      "metadata": {
        "id": "-Xb5WjT1JYJ-"
      },
      "execution_count": 2,
      "outputs": []
    },
    {
      "cell_type": "code",
      "source": [
        "def compute_gradients(data, theta):\n",
        "    gradients = np.zeros(2)\n",
        "    #total number of data points\n",
        "    N = float(len(data))\n",
        "    m = theta[0]\n",
        "    b = theta[1]\n",
        "    #for each data point\n",
        "    for i in range(len(data)):\n",
        "        x = data[i, 0]\n",
        "        y = data[i, 1]\n",
        "        #gradient of loss function with respect to m as given in (3)\n",
        "        gradients[0] += - (2 / N) * x * (y - (( m* x) + b))\n",
        "        #gradient of loss funcction with respect to b as given in (4)\n",
        "        gradients[1] += - (2 / N) * (y - ((theta[0] * x) + b))\n",
        "    #add epsilon to avoid division by zero error\n",
        "    epsilon = 1e-6 \n",
        "    gradients = np.divide(gradients, N + epsilon)\n",
        "    return gradients"
      ],
      "metadata": {
        "id": "do5yUliaJCsk"
      },
      "execution_count": 3,
      "outputs": []
    },
    {
      "cell_type": "code",
      "source": [
        "data = np.random.randn(500, 2) ## Column one=X values; Column two=Y values\n",
        "theta = np.zeros(2) ## Model Parameters(Weights)\n",
        "theta = np.zeros(2)\n",
        "gr_loss=[]\n",
        "for t in range(50000):\n",
        "    #compute gradients\n",
        "    gradients = compute_gradients(data, theta)\n",
        "    #update parameter\n",
        "    theta = theta - (1e-2*gradients)\n",
        "    #store the loss\n",
        "    gr_loss.append(loss_function(data,theta))"
      ],
      "metadata": {
        "id": "PZ7kYQiwJEw1"
      },
      "execution_count": 5,
      "outputs": []
    },
    {
      "cell_type": "code",
      "source": [
        "plt.plot(gr_loss)\n",
        "plt.grid()\n",
        "plt.xlabel('Training Iterations')\n",
        "plt.ylabel('Cost')\n",
        "plt.title('Gradient Descent')\n",
        "plt.show()"
      ],
      "metadata": {
        "colab": {
          "base_uri": "https://localhost:8080/",
          "height": 295
        },
        "id": "XkinVzwVKSxh",
        "outputId": "da2233a0-1b68-4cbf-f863-f723be44ca90"
      },
      "execution_count": 11,
      "outputs": [
        {
          "output_type": "display_data",
          "data": {
            "image/png": "[encoded data removed]",
            "text/plain": [
              "<Figure size 432x288 with 1 Axes>"
            ]
          },
          "metadata": {
            "needs_background": "light"
          }
        }
      ]
    },
    {
      "cell_type": "markdown",
      "source": [
        "**MINIBATCH**"
      ],
      "metadata": {
        "id": "hRIhhH5lLXL6"
      }
    },
    {
      "cell_type": "code",
      "source": [
        "def minibatch(data, theta, lr = 1e-2, minibatch_ratio = 0.01, num_iterations = 5000):\n",
        "    \n",
        "    loss = []\n",
        "    minibatch_size = int(math.ceil(len(data) * minibatch_ratio))\n",
        "    \n",
        "    for t in range(num_iterations):\n",
        "        sample_size = random.sample(range(len(data)), minibatch_size)\n",
        "        np.random.shuffle(data)\n",
        "        \n",
        "        #sample batch of data\n",
        "        sample_data = data[0:sample_size[0], :]\n",
        "        \n",
        "        #compute gradients\n",
        "        grad = compute_gradients(sample_data, theta)\n",
        "       \n",
        "        #update parameters\n",
        "        theta = theta - (lr * grad)\n",
        "        \n",
        "        loss.append(loss_function(data,theta))\n",
        "            \n",
        "    return loss"
      ],
      "metadata": {
        "id": "GbG0yBJEKxJx"
      },
      "execution_count": 9,
      "outputs": []
    },
    {
      "cell_type": "code",
      "source": [
        "theta = np.zeros(2)\n",
        "mini_loss = minibatch(data, theta)\n",
        "# plt.plot(gr_loss,label='Gradient Descend')\n",
        "plt.plot(mini_loss,label='Mini bach')\n",
        "plt.grid()\n",
        "plt.xlabel('Training Iterations')\n",
        "plt.ylabel('Cost')\n",
        "plt.legend()\n",
        "plt.title('Mini Batch Gradient Descend ')\n",
        "plt.show()"
      ],
      "metadata": {
        "colab": {
          "base_uri": "https://localhost:8080/",
          "height": 295
        },
        "id": "_-dwTfH6K4-r",
        "outputId": "0424d0d0-567b-42d8-818e-a7f66fa128ce"
      },
      "execution_count": 14,
      "outputs": [
        {
          "output_type": "display_data",
          "data": {
            "image/png": "[encoded data removed]",
            "text/plain": [
              "<Figure size 432x288 with 1 Axes>"
            ]
          },
          "metadata": {
            "needs_background": "light"
          }
        }
      ]
    },
    {
      "cell_type": "markdown",
      "source": [
        "**Stochastic Gradient Descent (SGD)**"
      ],
      "metadata": {
        "id": "nmG0_t0LLaOk"
      }
    },
    {
      "cell_type": "code",
      "source": [
        "def SGD(data, theta, lr = 1e-2, num_iterations = 5000):\n",
        "    \n",
        "    loss = []\n",
        "    \n",
        "    for t in range(num_iterations):\n",
        "        np.random.shuffle(data)\n",
        "                \n",
        "        #sample batch of data\n",
        "        random_indices = np.random.choice(5,size=1)\n",
        "        random_rows = data[random_indices, :]\n",
        "        \n",
        "        #compute gradients\n",
        "        grad = compute_gradients(random_rows, theta)\n",
        "       \n",
        "        #update parameters\n",
        "        theta = theta - (lr * grad)\n",
        "        \n",
        "        loss.append(loss_function(data,theta))\n",
        "            \n",
        "    return loss"
      ],
      "metadata": {
        "id": "EXpCSxhrLi-G"
      },
      "execution_count": 37,
      "outputs": []
    },
    {
      "cell_type": "code",
      "source": [
        "theta = np.zeros(2)\n",
        "SGD = SGD(data, theta)\n",
        "# plt.plot(gr_loss,label='Gradient Descend')\n",
        "plt.plot(SGD,label='SGD')\n",
        "plt.grid()\n",
        "plt.xlabel('Training Iterations')\n",
        "plt.ylabel('Cost')\n",
        "plt.legend()\n",
        "plt.title('SGD')\n",
        "plt.show()"
      ],
      "metadata": {
        "colab": {
          "base_uri": "https://localhost:8080/",
          "height": 295
        },
        "id": "dA_Tlm8tMkv4",
        "outputId": "0025f16e-6cb3-4de3-c2d1-04c47b030ce5"
      },
      "execution_count": 38,
      "outputs": [
        {
          "output_type": "display_data",
          "data": {
            "image/png": "[encoded data removed]",
            "text/plain": [
              "<Figure size 432x288 with 1 Axes>"
            ]
          },
          "metadata": {
            "needs_background": "light"
          }
        }
      ]
    }
  ]
}